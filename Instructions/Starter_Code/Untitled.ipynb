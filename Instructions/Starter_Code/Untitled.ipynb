{
 "cells": [
  {
   "cell_type": "code",
   "execution_count": 8,
   "id": "f02903d0",
   "metadata": {},
   "outputs": [],
   "source": [
    "# Import libraries and dependencies\n",
    "import numpy as np\n",
    "import pandas as pd\n",
    "from pathlib import Path\n",
    "%matplotlib inline"
   ]
  },
  {
   "cell_type": "code",
   "execution_count": 13,
   "id": "ecb0097c",
   "metadata": {},
   "outputs": [],
   "source": [
    "farms = { \"pid\",\n",
    "    \"lpSymbol\",\n",
    "    \"token\",\n",
    "    \"quoteToken\" \n",
    "  }\n",
    " "
   ]
  },
  {
   "cell_type": "code",
   "execution_count": 15,
   "id": "cf46b9df",
   "metadata": {},
   "outputs": [
    {
     "data": {
      "text/plain": [
       "{'lpSymbol', 'pid', 'quoteToken', 'token'}"
      ]
     },
     "execution_count": 15,
     "metadata": {},
     "output_type": "execute_result"
    }
   ],
   "source": [
    "farms"
   ]
  },
  {
   "cell_type": "code",
   "execution_count": null,
   "id": "d8ae1dbe",
   "metadata": {},
   "outputs": [],
   "source": []
  }
 ],
 "metadata": {
  "kernelspec": {
   "display_name": "dev",
   "language": "python",
   "name": "dev"
  },
  "language_info": {
   "codemirror_mode": {
    "name": "ipython",
    "version": 3
   },
   "file_extension": ".py",
   "mimetype": "text/x-python",
   "name": "python",
   "nbconvert_exporter": "python",
   "pygments_lexer": "ipython3",
   "version": "3.7.10"
  }
 },
 "nbformat": 4,
 "nbformat_minor": 5
}
